{
 "cells": [
  {
   "cell_type": "code",
   "execution_count": 1,
   "metadata": {},
   "outputs": [],
   "source": [
    "import numpy as np \n",
    "import pandas as pd\n",
    "import matplotlib.pyplot as ply \n",
    "import seaborn\n",
    "%matplotlib inline"
   ]
  },
  {
   "cell_type": "code",
   "execution_count": 4,
   "metadata": {},
   "outputs": [],
   "source": [
    "corona = pd.read_csv('./Scraped Data/scraped_corona.csv')"
   ]
  },
  {
   "cell_type": "code",
   "execution_count": 7,
   "metadata": {},
   "outputs": [
    {
     "data": {
      "text/html": [
       "<div>\n",
       "<style scoped>\n",
       "    .dataframe tbody tr th:only-of-type {\n",
       "        vertical-align: middle;\n",
       "    }\n",
       "\n",
       "    .dataframe tbody tr th {\n",
       "        vertical-align: top;\n",
       "    }\n",
       "\n",
       "    .dataframe thead th {\n",
       "        text-align: right;\n",
       "    }\n",
       "</style>\n",
       "<table border=\"1\" class=\"dataframe\">\n",
       "  <thead>\n",
       "    <tr style=\"text-align: right;\">\n",
       "      <th></th>\n",
       "      <th>srchStr</th>\n",
       "      <th>rank</th>\n",
       "      <th>fullLink</th>\n",
       "      <th>respCD</th>\n",
       "      <th>title</th>\n",
       "      <th>h1</th>\n",
       "      <th>h2</th>\n",
       "      <th>h3</th>\n",
       "      <th>h4</th>\n",
       "      <th>h5</th>\n",
       "      <th>h6</th>\n",
       "      <th>a</th>\n",
       "      <th>imgAlt</th>\n",
       "      <th>metaTitle</th>\n",
       "      <th>metaImage</th>\n",
       "      <th>domain</th>\n",
       "      <th>uri</th>\n",
       "    </tr>\n",
       "  </thead>\n",
       "  <tbody>\n",
       "    <tr>\n",
       "      <th>0</th>\n",
       "      <td>corona</td>\n",
       "      <td>1</td>\n",
       "      <td>https://indianexpress.com/article/india/covid-...</td>\n",
       "      <td>200</td>\n",
       "      <td>Coronavirus India News Live Updates: COVID-19 ...</td>\n",
       "      <td>['Coronavirus India LIVE Updates: Doubling tim...</td>\n",
       "      <td>['Coronavirus (COVID-19) Tracker India News Li...</td>\n",
       "      <td>NaN</td>\n",
       "      <td>NaN</td>\n",
       "      <td>NaN</td>\n",
       "      <td>NaN</td>\n",
       "      <td>['https://indianexpress.com/', 'https://tamil....</td>\n",
       "      <td>['The Indian Express', 'Live now', 'coronaviru...</td>\n",
       "      <td>['The Indian Express', 'Live now', 'coronaviru...</td>\n",
       "      <td>['The Indian Express', 'Live now', 'coronaviru...</td>\n",
       "      <td>indianexpress.com</td>\n",
       "      <td>/article/india/covid-19-coronavirus-india-trac...</td>\n",
       "    </tr>\n",
       "  </tbody>\n",
       "</table>\n",
       "</div>"
      ],
      "text/plain": [
       "  srchStr  rank                                           fullLink  respCD  \\\n",
       "0  corona     1  https://indianexpress.com/article/india/covid-...     200   \n",
       "\n",
       "                                               title  \\\n",
       "0  Coronavirus India News Live Updates: COVID-19 ...   \n",
       "\n",
       "                                                  h1  \\\n",
       "0  ['Coronavirus India LIVE Updates: Doubling tim...   \n",
       "\n",
       "                                                  h2   h3   h4   h5   h6  \\\n",
       "0  ['Coronavirus (COVID-19) Tracker India News Li...  NaN  NaN  NaN  NaN   \n",
       "\n",
       "                                                   a  \\\n",
       "0  ['https://indianexpress.com/', 'https://tamil....   \n",
       "\n",
       "                                              imgAlt  \\\n",
       "0  ['The Indian Express', 'Live now', 'coronaviru...   \n",
       "\n",
       "                                           metaTitle  \\\n",
       "0  ['The Indian Express', 'Live now', 'coronaviru...   \n",
       "\n",
       "                                           metaImage             domain  \\\n",
       "0  ['The Indian Express', 'Live now', 'coronaviru...  indianexpress.com   \n",
       "\n",
       "                                                 uri  \n",
       "0  /article/india/covid-19-coronavirus-india-trac...  "
      ]
     },
     "execution_count": 7,
     "metadata": {},
     "output_type": "execute_result"
    }
   ],
   "source": [
    "corona.head(1)"
   ]
  },
  {
   "cell_type": "code",
   "execution_count": 120,
   "metadata": {},
   "outputs": [],
   "source": [
    "srchStr = 'corona virus in Whuan China'"
   ]
  },
  {
   "cell_type": "code",
   "execution_count": 121,
   "metadata": {},
   "outputs": [],
   "source": [
    "string = 'corona virus in China'"
   ]
  },
  {
   "cell_type": "code",
   "execution_count": null,
   "metadata": {},
   "outputs": [],
   "source": []
  },
  {
   "cell_type": "code",
   "execution_count": 122,
   "metadata": {},
   "outputs": [],
   "source": [
    "def getPercentage(string, srchStr):\n",
    "    count = 0\n",
    "    for ix,srStr in enumerate(srchStr.split()):\n",
    "        if (str.lower().find(srStr) >= 0):\n",
    "            count+=1\n",
    "\n",
    "    return count/(ix+1)\n"
   ]
  },
  {
   "cell_type": "code",
   "execution_count": 123,
   "metadata": {},
   "outputs": [
    {
     "data": {
      "text/plain": [
       "1.0"
      ]
     },
     "execution_count": 123,
     "metadata": {},
     "output_type": "execute_result"
    }
   ],
   "source": [
    "percent"
   ]
  },
  {
   "cell_type": "code",
   "execution_count": 124,
   "metadata": {},
   "outputs": [
    {
     "data": {
      "text/plain": [
       "0.4"
      ]
     },
     "execution_count": 124,
     "metadata": {},
     "output_type": "execute_result"
    }
   ],
   "source": [
    "getPercentage(string, srchStr)"
   ]
  },
  {
   "cell_type": "code",
   "execution_count": null,
   "metadata": {},
   "outputs": [],
   "source": []
  },
  {
   "cell_type": "code",
   "execution_count": null,
   "metadata": {},
   "outputs": [],
   "source": []
  },
  {
   "cell_type": "code",
   "execution_count": null,
   "metadata": {},
   "outputs": [],
   "source": []
  }
 ],
 "metadata": {
  "kernelspec": {
   "display_name": "Python 3",
   "language": "python",
   "name": "python3"
  },
  "language_info": {
   "codemirror_mode": {
    "name": "ipython",
    "version": 3
   },
   "file_extension": ".py",
   "mimetype": "text/x-python",
   "name": "python",
   "nbconvert_exporter": "python",
   "pygments_lexer": "ipython3",
   "version": "3.7.1"
  }
 },
 "nbformat": 4,
 "nbformat_minor": 2
}
